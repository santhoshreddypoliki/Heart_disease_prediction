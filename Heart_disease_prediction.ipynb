{
 "cells": [
  {
   "cell_type": "markdown",
   "id": "26eb2610",
   "metadata": {},
   "source": [
    "# Heart Disease prediction"
   ]
  },
  {
   "cell_type": "code",
   "execution_count": 1,
   "id": "d83db971",
   "metadata": {},
   "outputs": [],
   "source": [
    "# inporting the libraries\n",
    "\n",
    "import numpy as np\n",
    "import pandas as pd\n",
    "from sklearn.model_selection import cross_val_score\n",
    "from sklearn.model_selection import GridSearchCV"
   ]
  },
  {
   "cell_type": "code",
   "execution_count": 2,
   "id": "b523c958",
   "metadata": {},
   "outputs": [],
   "source": [
    "# importing models\n",
    "\n",
    "from sklearn.linear_model import LogisticRegression\n",
    "from sklearn.svm import SVC\n",
    "from sklearn.neighbors import KNeighborsClassifier\n",
    "from sklearn.ensemble import RandomForestClassifier"
   ]
  },
  {
   "cell_type": "markdown",
   "id": "0bcda9c0",
   "metadata": {},
   "source": [
    "# Heart_Disease Dataset"
   ]
  },
  {
   "cell_type": "code",
   "execution_count": 3,
   "id": "14da0396",
   "metadata": {},
   "outputs": [],
   "source": [
    "# loading the data\n",
    "df = pd.read_csv('c://users/santhosh reddy/desktop/untitled folder/untitled folder/heart.csv')"
   ]
  },
  {
   "cell_type": "code",
   "execution_count": 4,
   "id": "777b672a",
   "metadata": {},
   "outputs": [
    {
     "data": {
      "text/html": [
       "<div>\n",
       "<style scoped>\n",
       "    .dataframe tbody tr th:only-of-type {\n",
       "        vertical-align: middle;\n",
       "    }\n",
       "\n",
       "    .dataframe tbody tr th {\n",
       "        vertical-align: top;\n",
       "    }\n",
       "\n",
       "    .dataframe thead th {\n",
       "        text-align: right;\n",
       "    }\n",
       "</style>\n",
       "<table border=\"1\" class=\"dataframe\">\n",
       "  <thead>\n",
       "    <tr style=\"text-align: right;\">\n",
       "      <th></th>\n",
       "      <th>age</th>\n",
       "      <th>sex</th>\n",
       "      <th>cp</th>\n",
       "      <th>trestbps</th>\n",
       "      <th>chol</th>\n",
       "      <th>fbs</th>\n",
       "      <th>restecg</th>\n",
       "      <th>thalach</th>\n",
       "      <th>exang</th>\n",
       "      <th>oldpeak</th>\n",
       "      <th>slope</th>\n",
       "      <th>ca</th>\n",
       "      <th>thal</th>\n",
       "      <th>target</th>\n",
       "    </tr>\n",
       "  </thead>\n",
       "  <tbody>\n",
       "    <tr>\n",
       "      <th>0</th>\n",
       "      <td>63</td>\n",
       "      <td>1</td>\n",
       "      <td>3</td>\n",
       "      <td>145</td>\n",
       "      <td>233</td>\n",
       "      <td>1</td>\n",
       "      <td>0</td>\n",
       "      <td>150</td>\n",
       "      <td>0</td>\n",
       "      <td>2.3</td>\n",
       "      <td>0</td>\n",
       "      <td>0</td>\n",
       "      <td>1</td>\n",
       "      <td>1</td>\n",
       "    </tr>\n",
       "    <tr>\n",
       "      <th>1</th>\n",
       "      <td>37</td>\n",
       "      <td>1</td>\n",
       "      <td>2</td>\n",
       "      <td>130</td>\n",
       "      <td>250</td>\n",
       "      <td>0</td>\n",
       "      <td>1</td>\n",
       "      <td>187</td>\n",
       "      <td>0</td>\n",
       "      <td>3.5</td>\n",
       "      <td>0</td>\n",
       "      <td>0</td>\n",
       "      <td>2</td>\n",
       "      <td>1</td>\n",
       "    </tr>\n",
       "    <tr>\n",
       "      <th>2</th>\n",
       "      <td>41</td>\n",
       "      <td>0</td>\n",
       "      <td>1</td>\n",
       "      <td>130</td>\n",
       "      <td>204</td>\n",
       "      <td>0</td>\n",
       "      <td>0</td>\n",
       "      <td>172</td>\n",
       "      <td>0</td>\n",
       "      <td>1.4</td>\n",
       "      <td>2</td>\n",
       "      <td>0</td>\n",
       "      <td>2</td>\n",
       "      <td>1</td>\n",
       "    </tr>\n",
       "    <tr>\n",
       "      <th>3</th>\n",
       "      <td>56</td>\n",
       "      <td>1</td>\n",
       "      <td>1</td>\n",
       "      <td>120</td>\n",
       "      <td>236</td>\n",
       "      <td>0</td>\n",
       "      <td>1</td>\n",
       "      <td>178</td>\n",
       "      <td>0</td>\n",
       "      <td>0.8</td>\n",
       "      <td>2</td>\n",
       "      <td>0</td>\n",
       "      <td>2</td>\n",
       "      <td>1</td>\n",
       "    </tr>\n",
       "    <tr>\n",
       "      <th>4</th>\n",
       "      <td>57</td>\n",
       "      <td>0</td>\n",
       "      <td>0</td>\n",
       "      <td>120</td>\n",
       "      <td>354</td>\n",
       "      <td>0</td>\n",
       "      <td>1</td>\n",
       "      <td>163</td>\n",
       "      <td>1</td>\n",
       "      <td>0.6</td>\n",
       "      <td>2</td>\n",
       "      <td>0</td>\n",
       "      <td>2</td>\n",
       "      <td>1</td>\n",
       "    </tr>\n",
       "  </tbody>\n",
       "</table>\n",
       "</div>"
      ],
      "text/plain": [
       "   age  sex  cp  trestbps  chol  fbs  restecg  thalach  exang  oldpeak  slope  \\\n",
       "0   63    1   3       145   233    1        0      150      0      2.3      0   \n",
       "1   37    1   2       130   250    0        1      187      0      3.5      0   \n",
       "2   41    0   1       130   204    0        0      172      0      1.4      2   \n",
       "3   56    1   1       120   236    0        1      178      0      0.8      2   \n",
       "4   57    0   0       120   354    0        1      163      1      0.6      2   \n",
       "\n",
       "   ca  thal  target  \n",
       "0   0     1       1  \n",
       "1   0     2       1  \n",
       "2   0     2       1  \n",
       "3   0     2       1  \n",
       "4   0     2       1  "
      ]
     },
     "execution_count": 4,
     "metadata": {},
     "output_type": "execute_result"
    }
   ],
   "source": [
    "df.head()"
   ]
  },
  {
   "cell_type": "code",
   "execution_count": 5,
   "id": "313feed0",
   "metadata": {},
   "outputs": [
    {
     "data": {
      "text/plain": [
       "(303, 14)"
      ]
     },
     "execution_count": 5,
     "metadata": {},
     "output_type": "execute_result"
    }
   ],
   "source": [
    "df.shape"
   ]
  },
  {
   "cell_type": "code",
   "execution_count": 6,
   "id": "bc73ef38",
   "metadata": {},
   "outputs": [
    {
     "data": {
      "text/plain": [
       "age         0\n",
       "sex         0\n",
       "cp          0\n",
       "trestbps    0\n",
       "chol        0\n",
       "fbs         0\n",
       "restecg     0\n",
       "thalach     0\n",
       "exang       0\n",
       "oldpeak     0\n",
       "slope       0\n",
       "ca          0\n",
       "thal        0\n",
       "target      0\n",
       "dtype: int64"
      ]
     },
     "execution_count": 6,
     "metadata": {},
     "output_type": "execute_result"
    }
   ],
   "source": [
    "df.isnull().sum()"
   ]
  },
  {
   "cell_type": "code",
   "execution_count": 7,
   "id": "fba5139e",
   "metadata": {},
   "outputs": [
    {
     "data": {
      "text/plain": [
       "1    165\n",
       "0    138\n",
       "Name: target, dtype: int64"
      ]
     },
     "execution_count": 7,
     "metadata": {},
     "output_type": "execute_result"
    }
   ],
   "source": [
    "df['target'].value_counts()"
   ]
  },
  {
   "cell_type": "markdown",
   "id": "835e16fc",
   "metadata": {},
   "source": [
    "0 --> Defective Heart   \n",
    "1 --> Healthy Heart"
   ]
  },
  {
   "cell_type": "code",
   "execution_count": 8,
   "id": "360c69f6",
   "metadata": {},
   "outputs": [],
   "source": [
    "# Splitting the features and target\n",
    "\n",
    "x = df.drop(columns='target',axis=1)\n",
    "y = df['target']"
   ]
  },
  {
   "cell_type": "code",
   "execution_count": 9,
   "id": "a990c63c",
   "metadata": {},
   "outputs": [
    {
     "name": "stdout",
     "output_type": "stream",
     "text": [
      "     age  sex  cp  trestbps  chol  fbs  restecg  thalach  exang  oldpeak  \\\n",
      "0     63    1   3       145   233    1        0      150      0      2.3   \n",
      "1     37    1   2       130   250    0        1      187      0      3.5   \n",
      "2     41    0   1       130   204    0        0      172      0      1.4   \n",
      "3     56    1   1       120   236    0        1      178      0      0.8   \n",
      "4     57    0   0       120   354    0        1      163      1      0.6   \n",
      "..   ...  ...  ..       ...   ...  ...      ...      ...    ...      ...   \n",
      "298   57    0   0       140   241    0        1      123      1      0.2   \n",
      "299   45    1   3       110   264    0        1      132      0      1.2   \n",
      "300   68    1   0       144   193    1        1      141      0      3.4   \n",
      "301   57    1   0       130   131    0        1      115      1      1.2   \n",
      "302   57    0   1       130   236    0        0      174      0      0.0   \n",
      "\n",
      "     slope  ca  thal  \n",
      "0        0   0     1  \n",
      "1        0   0     2  \n",
      "2        2   0     2  \n",
      "3        2   0     2  \n",
      "4        2   0     2  \n",
      "..     ...  ..   ...  \n",
      "298      1   0     3  \n",
      "299      1   0     3  \n",
      "300      1   2     3  \n",
      "301      1   1     3  \n",
      "302      1   1     2  \n",
      "\n",
      "[303 rows x 13 columns] 0      1\n",
      "1      1\n",
      "2      1\n",
      "3      1\n",
      "4      1\n",
      "      ..\n",
      "298    0\n",
      "299    0\n",
      "300    0\n",
      "301    0\n",
      "302    0\n",
      "Name: target, Length: 303, dtype: int64\n"
     ]
    }
   ],
   "source": [
    "print(x, y)"
   ]
  },
  {
   "cell_type": "code",
   "execution_count": 10,
   "id": "a89798d0",
   "metadata": {},
   "outputs": [],
   "source": [
    "x = np.asarray(x)\n",
    "y = np.asarray(y)"
   ]
  },
  {
   "cell_type": "markdown",
   "id": "7fb5d239",
   "metadata": {},
   "source": [
    "# Model Selection"
   ]
  },
  {
   "cell_type": "code",
   "execution_count": 11,
   "id": "ab45bf2b",
   "metadata": {},
   "outputs": [],
   "source": [
    "models = [LogisticRegression(max_iter=10000), SVC(kernel='linear'), KNeighborsClassifier(), RandomForestClassifier(random_state=0)]"
   ]
  },
  {
   "cell_type": "code",
   "execution_count": 12,
   "id": "b243eb0c",
   "metadata": {},
   "outputs": [],
   "source": [
    "def compare_models_cross_validation():\n",
    "    \n",
    "    for model in models:\n",
    "        \n",
    "        cv_score = cross_val_score(model, x, y, cv=5)\n",
    "        mean_accuracy = sum(cv_score)/len(cv_score)\n",
    "        mean_accuracy = mean_accuracy*100\n",
    "        \n",
    "        print('Cross validation accuracies for the',model,'is',cv_score)\n",
    "        print('Accuracy score of the',model,'is',round(mean_accuracy,2))\n",
    "        print('------------------------------------------------------------------')"
   ]
  },
  {
   "cell_type": "code",
   "execution_count": 13,
   "id": "0b74548a",
   "metadata": {},
   "outputs": [
    {
     "name": "stdout",
     "output_type": "stream",
     "text": [
      "Cross validation accuracies for the LogisticRegression(max_iter=10000) is [0.80327869 0.86885246 0.85245902 0.86666667 0.75      ]\n",
      "Accuracy score of the LogisticRegression(max_iter=10000) is 82.83\n",
      "------------------------------------------------------------------\n",
      "Cross validation accuracies for the SVC(kernel='linear') is [0.81967213 0.8852459  0.80327869 0.86666667 0.76666667]\n",
      "Accuracy score of the SVC(kernel='linear') is 82.83\n",
      "------------------------------------------------------------------\n",
      "Cross validation accuracies for the KNeighborsClassifier() is [0.60655738 0.6557377  0.57377049 0.73333333 0.65      ]\n",
      "Accuracy score of the KNeighborsClassifier() is 64.39\n",
      "------------------------------------------------------------------\n",
      "Cross validation accuracies for the RandomForestClassifier(random_state=0) is [0.85245902 0.90163934 0.81967213 0.81666667 0.8       ]\n",
      "Accuracy score of the RandomForestClassifier(random_state=0) is 83.81\n",
      "------------------------------------------------------------------\n"
     ]
    }
   ],
   "source": [
    "compare_models_cross_validation()"
   ]
  },
  {
   "cell_type": "markdown",
   "id": "ab2bdfc5",
   "metadata": {},
   "source": [
    "INFERENCE :     \n",
    "               for the Heart Disease dataset, RANDOM FOREST CLASSIFIER has the Highest accuracy value with default Hyperparameters"
   ]
  },
  {
   "cell_type": "markdown",
   "id": "d11de153",
   "metadata": {},
   "source": [
    "# GridSearchCV"
   ]
  },
  {
   "cell_type": "markdown",
   "id": "0f5facc8",
   "metadata": {},
   "source": [
    "2. Comparing the models with different Hyperparameter values using GridSearchCV"
   ]
  },
  {
   "cell_type": "code",
   "execution_count": 14,
   "id": "0ab0bc8a",
   "metadata": {},
   "outputs": [],
   "source": [
    "model_list = [LogisticRegression(max_iter=10000), SVC(), KNeighborsClassifier(), RandomForestClassifier(random_state=0)]"
   ]
  },
  {
   "cell_type": "code",
   "execution_count": 31,
   "id": "8d135748",
   "metadata": {},
   "outputs": [],
   "source": [
    "# Creating a Dictionary containing Hyperparameters\n",
    "\n",
    "model_hyperparameters = {\n",
    "    \n",
    "    'log_reg_hyperparameters' : {\n",
    "        'C' : [1, 5, 10, 20]\n",
    "    },\n",
    "    \n",
    "    'svc_hyperparameters' : {\n",
    "        'kernel' : ['linear','poly','rbf','sigmoid'],\n",
    "        'C' : [1, 5, 10, 20]\n",
    "    },\n",
    "    \n",
    "    'KNN_hyperparameters' : {\n",
    "        'n_neighbors' : [3, 5, 10]\n",
    "    },\n",
    "    \n",
    "    'random_forest_hyperparameters' : {\n",
    "        'n_estimators' : [10, 20, 50, 100]\n",
    "    }\n",
    "}"
   ]
  },
  {
   "cell_type": "code",
   "execution_count": 32,
   "id": "be63508a",
   "metadata": {},
   "outputs": [
    {
     "name": "stdout",
     "output_type": "stream",
     "text": [
      "dict_keys(['log_reg_hyperparameters', 'svc_hyperparameters', 'KNN_hyperparameters', 'random_forest_hyperparameters'])\n"
     ]
    }
   ],
   "source": [
    "print(model_hyperparameters.keys())"
   ]
  },
  {
   "cell_type": "code",
   "execution_count": 33,
   "id": "767e79a7",
   "metadata": {},
   "outputs": [
    {
     "name": "stdout",
     "output_type": "stream",
     "text": [
      "dict_values([{'C': [1, 5, 10, 20]}, {'kernel': ['linear', 'poly', 'rbf', 'sigmoid'], 'C': [1, 5, 10, 20]}, {'n_neighbors': [3, 5, 10]}, {'n_estimators': [10, 20, 50, 100]}])\n"
     ]
    }
   ],
   "source": [
    "print(model_hyperparameters.values())"
   ]
  },
  {
   "cell_type": "code",
   "execution_count": 34,
   "id": "db1b0fcb",
   "metadata": {},
   "outputs": [
    {
     "name": "stdout",
     "output_type": "stream",
     "text": [
      "['log_reg_hyperparameters', 'svc_hyperparameters', 'KNN_hyperparameters', 'random_forest_hyperparameters']\n"
     ]
    }
   ],
   "source": [
    "model_keys = list(model_hyperparameters.keys())\n",
    "print(model_keys)"
   ]
  },
  {
   "cell_type": "code",
   "execution_count": 35,
   "id": "66ce409e",
   "metadata": {},
   "outputs": [
    {
     "name": "stdout",
     "output_type": "stream",
     "text": [
      "{'C': [1, 5, 10, 20]}\n"
     ]
    },
    {
     "data": {
      "text/plain": [
       "{'kernel': ['linear', 'poly', 'rbf', 'sigmoid'], 'C': [1, 5, 10, 20]}"
      ]
     },
     "execution_count": 35,
     "metadata": {},
     "output_type": "execute_result"
    }
   ],
   "source": [
    "print(model_hyperparameters[model_keys[0]]) # 0 -- log_reg_hyperparameters\n",
    "model_hyperparameters[model_keys[1]] # 1 -- svc_hyperparameters"
   ]
  },
  {
   "cell_type": "markdown",
   "id": "5cd43f2f",
   "metadata": {},
   "source": [
    "# Applying the GridSearchCV"
   ]
  },
  {
   "cell_type": "code",
   "execution_count": 38,
   "id": "eafa3c08",
   "metadata": {},
   "outputs": [],
   "source": [
    "def ModelSelection(list_of_models, hyperparameters_dictionary):\n",
    "    \n",
    "    result = []\n",
    "    \n",
    "    i = 0\n",
    "    \n",
    "    for model in list_of_models:\n",
    "        key = model_keys[i]\n",
    "        params = hyperparameters_dictionary[key]\n",
    "        \n",
    "        i += 1\n",
    "        print(model)\n",
    "        print(params)\n",
    "        \n",
    "        classifier = GridSearchCV(model, params, cv=5)\n",
    "        \n",
    "        # Fitting the model\n",
    "        classifier.fit(x, y)\n",
    "        \n",
    "        result.append({\n",
    "            'model used' : model,\n",
    "            'highest score' : classifier.best_score_,\n",
    "            'best hyperparameters' : classifier.best_params_\n",
    "            \n",
    "        })\n",
    "    result_dataframe = pd.DataFrame(result, columns=['model used','highest score','best hyperparameters'])\n",
    "        \n",
    "    return result_dataframe"
   ]
  },
  {
   "cell_type": "code",
   "execution_count": 39,
   "id": "7b271bf4",
   "metadata": {
    "scrolled": true
   },
   "outputs": [
    {
     "name": "stdout",
     "output_type": "stream",
     "text": [
      "LogisticRegression(max_iter=10000)\n",
      "{'C': [1, 5, 10, 20]}\n",
      "SVC()\n",
      "{'kernel': ['linear', 'poly', 'rbf', 'sigmoid'], 'C': [1, 5, 10, 20]}\n",
      "KNeighborsClassifier()\n",
      "{'n_neighbors': [3, 5, 10]}\n",
      "RandomForestClassifier(random_state=0)\n",
      "{'n_estimators': [10, 20, 50, 100]}\n"
     ]
    },
    {
     "data": {
      "text/html": [
       "<div>\n",
       "<style scoped>\n",
       "    .dataframe tbody tr th:only-of-type {\n",
       "        vertical-align: middle;\n",
       "    }\n",
       "\n",
       "    .dataframe tbody tr th {\n",
       "        vertical-align: top;\n",
       "    }\n",
       "\n",
       "    .dataframe thead th {\n",
       "        text-align: right;\n",
       "    }\n",
       "</style>\n",
       "<table border=\"1\" class=\"dataframe\">\n",
       "  <thead>\n",
       "    <tr style=\"text-align: right;\">\n",
       "      <th></th>\n",
       "      <th>model used</th>\n",
       "      <th>highest score</th>\n",
       "      <th>best hyperparameters</th>\n",
       "    </tr>\n",
       "  </thead>\n",
       "  <tbody>\n",
       "    <tr>\n",
       "      <th>0</th>\n",
       "      <td>LogisticRegression(max_iter=10000)</td>\n",
       "      <td>0.831585</td>\n",
       "      <td>{'C': 5}</td>\n",
       "    </tr>\n",
       "    <tr>\n",
       "      <th>1</th>\n",
       "      <td>SVC()</td>\n",
       "      <td>0.828306</td>\n",
       "      <td>{'C': 1, 'kernel': 'linear'}</td>\n",
       "    </tr>\n",
       "    <tr>\n",
       "      <th>2</th>\n",
       "      <td>KNeighborsClassifier()</td>\n",
       "      <td>0.643880</td>\n",
       "      <td>{'n_neighbors': 5}</td>\n",
       "    </tr>\n",
       "    <tr>\n",
       "      <th>3</th>\n",
       "      <td>RandomForestClassifier(random_state=0)</td>\n",
       "      <td>0.838087</td>\n",
       "      <td>{'n_estimators': 100}</td>\n",
       "    </tr>\n",
       "  </tbody>\n",
       "</table>\n",
       "</div>"
      ],
      "text/plain": [
       "                               model used  highest score  \\\n",
       "0      LogisticRegression(max_iter=10000)       0.831585   \n",
       "1                                   SVC()       0.828306   \n",
       "2                  KNeighborsClassifier()       0.643880   \n",
       "3  RandomForestClassifier(random_state=0)       0.838087   \n",
       "\n",
       "           best hyperparameters  \n",
       "0                      {'C': 5}  \n",
       "1  {'C': 1, 'kernel': 'linear'}  \n",
       "2            {'n_neighbors': 5}  \n",
       "3         {'n_estimators': 100}  "
      ]
     },
     "execution_count": 39,
     "metadata": {},
     "output_type": "execute_result"
    }
   ],
   "source": [
    "ModelSelection(model_list, model_hyperparameters)"
   ]
  },
  {
   "cell_type": "raw",
   "id": "93273791",
   "metadata": {},
   "source": [
    "# Random Forest classifier with n_estimators has the Highest Accuracy score"
   ]
  },
  {
   "cell_type": "code",
   "execution_count": null,
   "id": "7050715d",
   "metadata": {},
   "outputs": [],
   "source": []
  }
 ],
 "metadata": {
  "kernelspec": {
   "display_name": "Python 3 (ipykernel)",
   "language": "python",
   "name": "python3"
  },
  "language_info": {
   "codemirror_mode": {
    "name": "ipython",
    "version": 3
   },
   "file_extension": ".py",
   "mimetype": "text/x-python",
   "name": "python",
   "nbconvert_exporter": "python",
   "pygments_lexer": "ipython3",
   "version": "3.9.7"
  }
 },
 "nbformat": 4,
 "nbformat_minor": 5
}
